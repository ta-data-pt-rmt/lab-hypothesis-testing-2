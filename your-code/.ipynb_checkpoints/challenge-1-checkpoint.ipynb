{
 "cells": [
  {
   "cell_type": "markdown",
   "metadata": {},
   "source": [
    "# Challenge 1 - T-test\n",
    "\n",
    "In statistics, t-test is used to test if two data samples have a significant difference between their means. There are two types of t-test:\n",
    "\n",
    "* **Student's t-test** (a.k.a. independent or uncorrelated t-test). This type of t-test is to compare the samples of **two independent populations** (e.g. test scores of students in two different classes). `scipy` provides the [`ttest_ind`](https://docs.scipy.org/doc/scipy-0.15.1/reference/generated/scipy.stats.ttest_ind.html) method to conduct student's t-test.\n",
    "\n",
    "* **Paired t-test** (a.k.a. dependent or correlated t-test). This type of t-test is to compare the samples of **the same population** (e.g. scores of different tests of students in the same class). `scipy` provides the [`ttest_re`](https://docs.scipy.org/doc/scipy-0.15.1/reference/generated/scipy.stats.ttest_rel.html) method to conduct paired t-test.\n",
    "\n",
    "Both types of t-tests return a number which is called the **p-value**. If p-value is below 0.05, we can confidently declare the null-hypothesis is rejected and the difference is significant. If p-value is between 0.05 and 0.1, we may also declare the null-hypothesis is rejected but we are not highly confident. If p-value is above 0.1 we do not reject the null-hypothesis.\n",
    "\n",
    "Read more about the t-test in [this article](http://b.link/test50) and [this Quora](http://b.link/unpaired97). Make sure you understand when to use which type of t-test. "
   ]
  },
  {
   "cell_type": "code",
   "execution_count": 1,
   "metadata": {},
   "outputs": [],
   "source": [
    "# Import libraries\n",
    "import pandas as pd"
   ]
  },
  {
   "cell_type": "markdown",
   "metadata": {},
   "source": [
    "#### Import dataset\n",
    "\n",
    "In this challenge we will work on the Pokemon dataset. The goal is to test whether different groups of pokemon (e.g. Legendary vs Normal, Generation 1 vs 2, single-type vs dual-type) have different stats (e.g. HP, Attack, Defense, etc.)."
   ]
  },
  {
   "cell_type": "code",
   "execution_count": 7,
   "metadata": {},
   "outputs": [
    {
     "name": "stdout",
     "output_type": "stream",
     "text": [
      "   #                   Name Type 1  Type 2  Total  HP  Attack  Defense  \\\n",
      "0  1              Bulbasaur  Grass  Poison    318  45      49       49   \n",
      "1  2                Ivysaur  Grass  Poison    405  60      62       63   \n",
      "2  3               Venusaur  Grass  Poison    525  80      82       83   \n",
      "3  3  VenusaurMega Venusaur  Grass  Poison    625  80     100      123   \n",
      "4  4             Charmander   Fire     NaN    309  39      52       43   \n",
      "\n",
      "   Sp. Atk  Sp. Def  Speed  Generation  Legendary  \n",
      "0       65       65     45           1      False  \n",
      "1       80       80     60           1      False  \n",
      "2      100      100     80           1      False  \n",
      "3      122      120     80           1      False  \n",
      "4       60       50     65           1      False  \n"
     ]
    }
   ],
   "source": [
    "# Your code here:\n",
    "\n",
    "# data = 'Pokemon.csv'\n",
    "pokemon = pd.read_csv('Pokemon.csv')\n",
    "print(pokemon.head())\n",
    "\n",
    "\n"
   ]
  },
  {
   "cell_type": "markdown",
   "metadata": {},
   "source": [
    "#### First we want to define a function with which we can test the means of a feature set of two samples. \n",
    "\n",
    "In the next cell you'll see the annotations of the Python function that explains what this function does and its arguments and returned value. This type of annotation is called **docstring** which is a convention used among Python developers. The docstring convention allows developers to write consistent tech documentations for their codes so that others can read. It also allows some websites to automatically parse the docstrings and display user-friendly documentations.\n",
    "\n",
    "Follow the specifications of the docstring and complete the function."
   ]
  },
  {
   "cell_type": "code",
   "execution_count": 8,
   "metadata": {},
   "outputs": [],
   "source": [
    "def t_test_features(s1, s2, features=['HP', 'Attack', 'Defense', 'Sp. Atk', 'Sp. Def', 'Speed', 'Total']):\n",
    "    \"\"\"Test means of a feature set of two samples\n",
    "    \n",
    "    Args:\n",
    "        s1 (dataframe): sample 1\n",
    "        s2 (dataframe): sample 2\n",
    "        features (list): an array of features to test\n",
    "    \n",
    "    Returns:\n",
    "        dict: a dictionary of t-test scores for each feature where the feature name is the key and the p-value is the value\n",
    "    \"\"\"\n",
    "    results = {}\n",
    "\n",
    "    # Your code here\n",
    "    \n",
    "    return results"
   ]
  },
  {
   "cell_type": "markdown",
   "metadata": {},
   "source": [
    "#### Using the `t_test_features` function, conduct t-test for Lengendary vs non-Legendary pokemons.\n",
    "\n",
    "*Hint: your output should look like below:*\n",
    "\n",
    "```\n",
    "{'HP': 1.0026911708035284e-13,\n",
    " 'Attack': 2.520372449236646e-16,\n",
    " 'Defense': 4.8269984949193316e-11,\n",
    " 'Sp. Atk': 1.5514614112239812e-21,\n",
    " 'Sp. Def': 2.2949327864052826e-15,\n",
    " 'Speed': 1.049016311882451e-18,\n",
    " 'Total': 9.357954335957446e-47}\n",
    " ```"
   ]
  },
  {
   "cell_type": "code",
   "execution_count": 11,
   "metadata": {},
   "outputs": [
    {
     "name": "stdout",
     "output_type": "stream",
     "text": [
      "T-Test Results for Legendary vs. Non-Legendary Pokémon:\n",
      "HP: p-value = 3.330647684846191e-15\n",
      "Attack: p-value = 7.827253003205333e-24\n",
      "Defense: p-value = 1.5842226094427255e-12\n",
      "Sp. Atk: p-value = 6.314915770427266e-41\n",
      "Sp. Def: p-value = 1.8439809580409594e-26\n",
      "Speed: p-value = 2.3540754436898437e-21\n",
      "Total: p-value = 3.0952457469652825e-52\n"
     ]
    }
   ],
   "source": [
    "# Your code here\n",
    "from scipy.stats import ttest_ind  \n",
    "\n",
    "def t_test_features(s1, s2, features=['HP', 'Attack', 'Defense', 'Sp. Atk', 'Sp. Def', 'Speed', 'Total']):\n",
    "    results = {}\n",
    "    \n",
    "    for feature in features:\n",
    "        t_statistic, p_value = ttest_ind(s1[feature], s2[feature])\n",
    "        results[feature] = p_value\n",
    "        \n",
    "    return results\n",
    "\n",
    "legendary_pokemon = pokemon[pokemon['Legendary'] == True]\n",
    "non_legendary_pokemon = pokemon[pokemon['Legendary'] == False]\n",
    "\n",
    "t_test_results = t_test_features(legendary_pokemon, non_legendary_pokemon)\n",
    "\n",
    "print(\"T-Test Results for Legendary vs. Non-Legendary Pokémon:\")\n",
    "for feature, p_value in t_test_results.items():\n",
    "    print(f\"{feature}: p-value = {p_value}\")\n",
    "    \n"
   ]
  },
  {
   "cell_type": "markdown",
   "metadata": {},
   "source": [
    "#### From the test results above, what conclusion can you make? Do Legendary and non-Legendary pokemons have significantly different stats on each feature?"
   ]
  },
  {
   "cell_type": "code",
   "execution_count": null,
   "metadata": {},
   "outputs": [],
   "source": [
    "\n",
    "\"\"\"The p-values are extremely small (close to zero), indicating strong evidence against the null hypothesis. \n",
    "In hypothesis testing, a small p-value suggests that we can reject the null hypothesis that legendary and \n",
    "non-Legendary Pokémon have the same mean for each feature. In other worde, We can concluded they \n",
    "have significantly different stats on each feature\"\"\""
   ]
  },
  {
   "cell_type": "markdown",
   "metadata": {},
   "source": [
    "#### Next, conduct t-test for Generation 1 and Generation 2 pokemons."
   ]
  },
  {
   "cell_type": "code",
   "execution_count": 12,
   "metadata": {},
   "outputs": [
    {
     "name": "stdout",
     "output_type": "stream",
     "text": [
      "T-Test Results for Generation 1 vs. Generation 2 Pokémon:\n",
      "HP: p-value = 0.13791881412813622\n",
      "Attack: p-value = 0.24050968418101457\n",
      "Defense: p-value = 0.5407630349194362\n",
      "Sp. Atk: p-value = 0.14119788176331508\n",
      "Sp. Def: p-value = 0.16781226231606386\n",
      "Speed: p-value = 0.0028356954812578704\n",
      "Total: p-value = 0.5599140649014442\n"
     ]
    }
   ],
   "source": [
    "# Your code here\n",
    "\n",
    "gen1_pokemon = pokemon[pokemon['Generation'] == 1]\n",
    "gen2_pokemon = pokemon[pokemon['Generation'] == 2]\n",
    "\n",
    "t_test_results_gen = t_test_features(gen1_pokemon, gen2_pokemon)\n",
    "\n",
    "\n",
    "print(\"T-Test Results for Generation 1 vs. Generation 2 Pokémon:\")\n",
    "for feature, p_value in t_test_results_gen.items():\n",
    "    print(f\"{feature}: p-value = {p_value}\")"
   ]
  },
  {
   "cell_type": "markdown",
   "metadata": {},
   "source": [
    "#### What conclusions can you make?"
   ]
  },
  {
   "cell_type": "code",
   "execution_count": null,
   "metadata": {},
   "outputs": [],
   "source": [
    "\n",
    "\"\"\"The p-values obtained from the t-tests for each feature between Generation 1 and Generation 2 \n",
    "are relatively high compared to conventional significance levels of 0.05.\n",
    "A high p-value suggests that there is not enough evidence to reject the null hypothesis.\n",
    "\n",
    "In practical terms, for the 'Speed' feature, there is a statistically significant difference (p-value = 0.0028),\n",
    "but for the other features, there is not enough evidence to claim a significant difference\"\"\""
   ]
  },
  {
   "cell_type": "markdown",
   "metadata": {},
   "source": [
    "#### Compare pokemons who have single type vs those having two types."
   ]
  },
  {
   "cell_type": "code",
   "execution_count": null,
   "metadata": {},
   "outputs": [],
   "source": [
    "# Your comment here"
   ]
  },
  {
   "cell_type": "markdown",
   "metadata": {},
   "source": [
    "#### What conclusions can you make?"
   ]
  },
  {
   "cell_type": "code",
   "execution_count": null,
   "metadata": {},
   "outputs": [],
   "source": [
    "# Your comment here"
   ]
  },
  {
   "cell_type": "markdown",
   "metadata": {},
   "source": [
    "#### Now, we want to compare whether there are significant differences of `Attack` vs `Defense`  and  `Sp. Atk` vs `Sp. Def` of all pokemons. Please write your code below.\n",
    "\n",
    "*Hint: are you comparing different populations or the same population?*"
   ]
  },
  {
   "cell_type": "code",
   "execution_count": 17,
   "metadata": {},
   "outputs": [
    {
     "name": "stdout",
     "output_type": "stream",
     "text": [
      "Paired T-Test Results for Attack vs. Defense:\n",
      "t-statistic: 4.325566393330478\n",
      "p-value: 1.7140303479358558e-05\n",
      "\n",
      "Paired T-Test Results for Sp. Atk vs. Sp. Def:\n",
      "t-statistic: 0.853986188453353\n",
      "p-value: 0.3933685997548122\n"
     ]
    }
   ],
   "source": [
    "# Your code here\n",
    "\n",
    "from scipy.stats import ttest_rel\n",
    "\n",
    "t_statistic_attack_defense, p_value_attack_defense = ttest_rel(pokemon['Attack'], pokemon['Defense'])\n",
    "\n",
    "t_statistic_sp_atk_sp_def, p_value_sp_atk_sp_def = ttest_rel(pokemon['Sp. Atk'], pokemon['Sp. Def'])\n",
    "\n",
    "\n",
    "print(\"Paired T-Test Results for Attack vs. Defense:\")\n",
    "print(f\"t-statistic: {t_statistic_attack_defense}\")\n",
    "print(f\"p-value: {p_value_attack_defense}\")\n",
    "print(\"\\nPaired T-Test Results for Sp. Atk vs. Sp. Def:\")\n",
    "print(f\"t-statistic: {t_statistic_sp_atk_sp_def}\")\n",
    "print(f\"p-value: {p_value_sp_atk_sp_def}\")\n"
   ]
  },
  {
   "cell_type": "markdown",
   "metadata": {},
   "source": [
    "#### What conclusions can you make?"
   ]
  },
  {
   "cell_type": "code",
   "execution_count": null,
   "metadata": {},
   "outputs": [],
   "source": [
    "\"\"\" Attack vs. Defense:\n",
    "\n",
    "The low p-value (1.71e-05) indicates that there is a significant difference between the Attack and Defense \n",
    "stats of Pokémon. With such a small p-value, we can reject the null hypothesis that the means of\n",
    "Attack and Defense are equal. The positive t-statistic (4.33) suggests that the Attack stat is significantly \n",
    "higher than the Defense stat.\n",
    "\n",
    "\n",
    "Sp. Atk vs. Sp. Def:\n",
    "\n",
    "The higher p-value (0.393) indicates that there isn't enough evidence to reject the null hypothesis that \n",
    "the means of Sp. Atk and Sp. Def are equal. The t-statistic (0.854) is relatively small, suggesting that there \n",
    "isn't a significant difference between the Sp. Atk and Sp. Def stats.\n",
    "\n",
    "In summary:\n",
    "\n",
    "There is a significant difference between Attack and Defense stats.\n",
    "There isn't a significant difference between Sp. Atk and Sp. Def stats.\"\"\""
   ]
  }
 ],
 "metadata": {
  "kernelspec": {
   "display_name": "Python 3 (ipykernel)",
   "language": "python",
   "name": "python3"
  },
  "language_info": {
   "codemirror_mode": {
    "name": "ipython",
    "version": 3
   },
   "file_extension": ".py",
   "mimetype": "text/x-python",
   "name": "python",
   "nbconvert_exporter": "python",
   "pygments_lexer": "ipython3",
   "version": "3.9.13"
  }
 },
 "nbformat": 4,
 "nbformat_minor": 2
}

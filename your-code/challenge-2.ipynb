{
 "cells": [
  {
   "cell_type": "markdown",
   "metadata": {},
   "source": [
    "# Challenge 2 - ANOVA\n",
    "\n",
    "In statistics, **Analysis of Variance (ANOVA)** is also used to analyze the differences among group means. The difference between t-test and ANOVA is the former is ued to compare two groups whereas the latter is used to compare three or more groups. [Read more about the difference between t-test and ANOVA](http://b.link/anova24).\n",
    "\n",
    "From the ANOVA test, you receive two numbers. The first number is called the **F-value** which indicates whether your null-hypothesis can be rejected. The critical F-value that rejects the null-hypothesis varies according to the number of total subjects and the number of subject groups in your experiment. In [this table](http://b.link/eda14) you can find the critical values of the F distribution. **If you are confused by the massive F-distribution table, don't worry. Skip F-value for now and study it at a later time. In this challenge you only need to look at the p-value.**\n",
    "\n",
    "The p-value is another number yielded by ANOVA which already takes the number of total subjects and the number of experiment groups into consideration. **Typically if your p-value is less than 0.05, you can declare the null-hypothesis is rejected.**\n",
    "\n",
    "In this challenge, we want to understand whether there are significant differences among various types of pokemons' `Total` value, i.e. Grass vs Poison vs Fire vs Dragon... There are many types of pokemons which makes it a perfect use case for ANOVA."
   ]
  },
  {
   "cell_type": "code",
   "execution_count": 11,
   "metadata": {},
   "outputs": [],
   "source": [
    "# Import libraries\n",
    "import pandas as pd\n",
    "from scipy.stats import f_oneway"
   ]
  },
  {
   "cell_type": "code",
   "execution_count": 3,
   "metadata": {},
   "outputs": [],
   "source": [
    "file_path = 'C:\\\\Users\\\\David Santos\\\\Documents\\\\GitHub\\\\lab-hypothesis-testing-2\\\\your-code\\\\Pokemon.csv'\n",
    "\n",
    "pokemon = pd.read_csv(file_path)\n"
   ]
  },
  {
   "cell_type": "markdown",
   "metadata": {},
   "source": [
    "**To achieve our goal, we use three steps:**\n",
    "\n",
    "1. **Extract the unique values of the pokemon types.**\n",
    "\n",
    "1. **Select dataframes for each unique pokemon type.**\n",
    "\n",
    "1. **Conduct ANOVA analysis across the pokemon types.**"
   ]
  },
  {
   "cell_type": "markdown",
   "metadata": {},
   "source": [
    "#### First let's obtain the unique values of the pokemon types. These values should be extracted from Type 1 and Type 2 aggregated. Assign the unique values to a variable called `unique_types`.\n",
    "\n",
    "*Hint: the correct number of unique types is 19 including `NaN`. You can disregard `NaN` in next step.*"
   ]
  },
  {
   "cell_type": "code",
   "execution_count": 7,
   "metadata": {},
   "outputs": [
    {
     "name": "stdout",
     "output_type": "stream",
     "text": [
      "Number of unique types: 19\n"
     ]
    }
   ],
   "source": [
    "unique_types = pd.concat([pokemon['Type 1'], pokemon['Type 2']]).unique()\n",
    "num_unique_types = len(unique_types)\n",
    "\n",
    "print(\"Number of unique types:\", num_unique_types)"
   ]
  },
  {
   "cell_type": "markdown",
   "metadata": {},
   "source": [
    "#### Second we will create a list named `pokemon_totals` to contain the `Total` values of each unique type of pokemons.\n",
    "\n",
    "Why we use a list instead of a dictionary to store the pokemon `Total`? It's because ANOVA only tells us whether there is a significant difference of the group means but does not tell which group(s) are significantly different. Therefore, we don't need know which `Total` belongs to which pokemon type.\n",
    "\n",
    "*Hints:*\n",
    "\n",
    "* Loop through `unique_types` and append the selected type's `Total` to `pokemon_groups`.\n",
    "* Skip the `NaN` value in `unique_types`. `NaN` is a `float` variable which you can find out by using `type()`. The valid pokemon type values are all of the `str` type.\n",
    "* At the end, the length of your `pokemon_totals` should be 18."
   ]
  },
  {
   "cell_type": "code",
   "execution_count": 9,
   "metadata": {},
   "outputs": [
    {
     "name": "stdout",
     "output_type": "stream",
     "text": [
      "List of total values for each unique type: [39703, 29895, 54066, 27326, 41011, 24657, 22242, 29552, 16637, 24916, 42938, 26050, 20096, 17763, 27088, 23506, 23843, 45837]\n",
      "Lenght of pokemon_totals: 18\n"
     ]
    }
   ],
   "source": [
    "unique_types = pd.concat([pokemon['Type 1'], pokemon['Type 2']]).unique()\n",
    "pokemon_totals = [] \n",
    "\n",
    "for pokemon_type in unique_types:\n",
    "    if isinstance(pokemon_type, str): #skipping NaN\n",
    "        type_total = pokemon[pokemon['Type 1'] == pokemon_type]['Total'].sum() + pokemon[pokemon['Type 2'] == pokemon_type]['Total'].sum()\n",
    "        pokemon_totals.append(type_total)\n",
    "\n",
    "\n",
    "print(\"List of total values for each unique type:\", pokemon_totals)\n",
    "print(\"Lenght of pokemon_totals:\", len(pokemon_totals))"
   ]
  },
  {
   "cell_type": "markdown",
   "metadata": {},
   "source": [
    "#### Now we run ANOVA test on `pokemon_totals`.\n",
    "\n",
    "*Hints:*\n",
    "\n",
    "* To conduct ANOVA, you can use `scipy.stats.f_oneway()`. Here's the [reference](http://b.link/scipy44).\n",
    "\n",
    "* What if `f_oneway` throws an error because it does not accept `pokemon_totals` as a list? The trick is to add a `*` in front of `pokemon_totals`, e.g. `stats.f_oneway(*pokemon_groups)`. This trick breaks the list and supplies each list item as a parameter for `f_oneway`."
   ]
  },
  {
   "cell_type": "code",
   "execution_count": 20,
   "metadata": {},
   "outputs": [
    {
     "name": "stdout",
     "output_type": "stream",
     "text": [
      "F_statistic: 6.617538296005533\n",
      "P_value: 2.6457458815984803e-15\n",
      "The differences between group means are stat significant.\n"
     ]
    }
   ],
   "source": [
    "unique_types = pd.concat([pokemon['Type 1'], pokemon['Type 2']]).unique()\n",
    "\n",
    "type_totals = {}\n",
    "\n",
    "for index, row in pokemon.iterrows():\n",
    "    for pokemon_type in [row['Type 1'], row['Type 2']]:\n",
    "        if isinstance(pokemon_type, str):\n",
    "            if pokemon_type not in type_totals:\n",
    "                type_totals[pokemon_type] = []\n",
    "            type_totals[pokemon_type].append(row['Total'])\n",
    "\n",
    "\n",
    "pokemon_totals = list(type_totals.values())\n",
    "#ANOVA\n",
    "\n",
    "f_statistic, p_value = f_oneway(*pokemon_totals)\n",
    "\n",
    "print(\"F_statistic:\", f_statistic)\n",
    "print(\"P_value:\", p_value)\n",
    "\n",
    "if p_value < 0.05: \n",
    "    print(\"The differences between group means are stat significant.\")\n",
    "\n",
    "else: \n",
    "    print(\"The difference between group means are not stat significant.\")"
   ]
  },
  {
   "cell_type": "markdown",
   "metadata": {},
   "source": [
    "#### Interpret the ANOVA test result. Is the difference significant?"
   ]
  },
  {
   "cell_type": "code",
   "execution_count": null,
   "metadata": {},
   "outputs": [],
   "source": [
    "# The difference is significant."
   ]
  }
 ],
 "metadata": {
  "kernelspec": {
   "display_name": "Python 3",
   "language": "python",
   "name": "python3"
  },
  "language_info": {
   "codemirror_mode": {
    "name": "ipython",
    "version": 3
   },
   "file_extension": ".py",
   "mimetype": "text/x-python",
   "name": "python",
   "nbconvert_exporter": "python",
   "pygments_lexer": "ipython3",
   "version": "3.10.9"
  }
 },
 "nbformat": 4,
 "nbformat_minor": 2
}
